{
 "cells": [
  {
   "cell_type": "code",
   "execution_count": 8,
   "id": "aa9faa79",
   "metadata": {},
   "outputs": [
    {
     "name": "stderr",
     "output_type": "stream",
     "text": [
      "c:\\Users\\kumar\\AppData\\Local\\Programs\\Python\\Python313\\Lib\\site-packages\\xgboost\\core.py:2676: UserWarning: [10:16:30] WARNING: C:\\actions-runner\\_work\\xgboost\\xgboost\\src\\common\\error_msg.cc:27: The tree method `gpu_hist` is deprecated since 2.0.0. To use GPU training, set the `device` parameter to CUDA instead.\n",
      "\n",
      "    E.g. tree_method = \"hist\", device = \"cuda\"\n",
      "\n",
      "  if len(data.shape) != 1 and self.num_features() != data.shape[1]:\n"
     ]
    },
    {
     "name": "stdout",
     "output_type": "stream",
     "text": [
      "✅ RMSE: 194.3919\n",
      "✅ MAE: 34.8245\n",
      "✅ R² : 0.7725\n"
     ]
    }
   ],
   "source": [
    "import pandas as pd\n",
    "import numpy as np\n",
    "\n",
    "from sklearn.model_selection import train_test_split\n",
    "from sklearn.metrics import mean_squared_error, mean_absolute_error, r2_score\n",
    "from sklearn.ensemble import RandomForestRegressor, StackingRegressor\n",
    "from xgboost import XGBRegressor\n",
    "from lightgbm import LGBMRegressor\n",
    "\n",
    "# ===============================\n",
    "# 1. Load your dataset\n",
    "# ===============================\n",
    "df = pd.read_csv(\"./../Data Given for Challenge/data/normalized_features.csv\")\n",
    "\n",
    "# Example: assume 'out' is the target, and rest are features\n",
    "X = df.drop(columns=[\"out\", \"Timestamp\", \"Location\"], errors=\"ignore\")\n",
    "y = df[\"out\"]\n",
    "\n",
    "# Train/Validation split\n",
    "X_train, X_val, y_train, y_val = train_test_split(\n",
    "    X, y, test_size=0.2, random_state=42\n",
    ")\n",
    "\n",
    "# ===============================\n",
    "# 2. Define base models\n",
    "# ===============================\n",
    "base_models = [\n",
    "    (\n",
    "        \"rf\",\n",
    "        RandomForestRegressor(\n",
    "            n_estimators=300,\n",
    "            random_state=42\n",
    "        )\n",
    "    ),  # CPU only\n",
    "    (\n",
    "        \"xgb\",\n",
    "        XGBRegressor(\n",
    "            n_estimators=300,\n",
    "            learning_rate=0.05,\n",
    "            max_depth=8,\n",
    "            subsample=0.8,\n",
    "            colsample_bytree=0.8,\n",
    "            random_state=42,\n",
    "            tree_method=\"gpu_hist\"  # Remove or change if no GPU\n",
    "        )\n",
    "    ),\n",
    "    (\n",
    "        \"lgbm\",\n",
    "        LGBMRegressor(\n",
    "            n_estimators=300,\n",
    "            learning_rate=0.05,\n",
    "            num_leaves=64,\n",
    "            subsample=0.8,\n",
    "            colsample_bytree=0.8,\n",
    "            random_state=42,\n",
    "            device=\"gpu\"  # Remove this argument if LightGBM GPU not available\n",
    "        )\n",
    "    )\n",
    "]\n",
    "\n",
    "# ===============================\n",
    "# 3. Define stacking ensemble\n",
    "# ===============================\n",
    "stacked_model = StackingRegressor(\n",
    "    estimators=base_models,\n",
    "    final_estimator=RandomForestRegressor(n_estimators=300, random_state=42),\n",
    "    passthrough=True,   # pass original features + predictions\n",
    "    n_jobs=-1\n",
    ")\n",
    "\n",
    "# ===============================\n",
    "# 4. Train model\n",
    "# ===============================\n",
    "stacked_model.fit(X_train, y_train)\n",
    "\n",
    "# ===============================\n",
    "# 5. Evaluate\n",
    "# ===============================\n",
    "y_pred = stacked_model.predict(X_val)\n",
    "\n",
    "# Safe RMSE computation (works on all sklearn versions)\n",
    "mse = mean_squared_error(y_val, y_pred)\n",
    "rmse = np.sqrt(mse)\n",
    "mae = mean_absolute_error(y_val, y_pred)\n",
    "r2 = r2_score(y_val, y_pred)\n",
    "\n",
    "print(f\"✅ RMSE: {rmse:.4f}\")\n",
    "print(f\"✅ MAE: {mae:.4f}\")\n",
    "print(f\"✅ R² : {r2:.4f}\")\n"
   ]
  },
  {
   "cell_type": "code",
   "execution_count": 3,
   "id": "a5823252",
   "metadata": {},
   "outputs": [
    {
     "name": "stdout",
     "output_type": "stream",
     "text": [
      "✅ RMSE: 205.4661\n",
      "✅ MAE: 37.3227\n",
      "✅ R²: 0.7459\n"
     ]
    }
   ],
   "source": [
    "print(f\"✅ RMSE: {rmse:.4f}\")\n",
    "print(f\"✅ MAE: {mae:.4f}\")\n",
    "print(f\"✅ R²: {r2:.4f}\")"
   ]
  }
 ],
 "metadata": {
  "kernelspec": {
   "display_name": "Python 3",
   "language": "python",
   "name": "python3"
  },
  "language_info": {
   "codemirror_mode": {
    "name": "ipython",
    "version": 3
   },
   "file_extension": ".py",
   "mimetype": "text/x-python",
   "name": "python",
   "nbconvert_exporter": "python",
   "pygments_lexer": "ipython3",
   "version": "3.13.2"
  }
 },
 "nbformat": 4,
 "nbformat_minor": 5
}
