{
 "cells": [
  {
   "cell_type": "code",
   "execution_count": null,
   "id": "297a3aae",
   "metadata": {},
   "outputs": [
    {
     "name": "stderr",
     "output_type": "stream",
     "text": [
      "c:\\Users\\kumar\\AppData\\Local\\Programs\\Python\\Python313\\Lib\\site-packages\\lightning\\pytorch\\utilities\\parsing.py:210: Attribute 'loss' is an instance of `nn.Module` and is already saved during checkpointing. It is recommended to ignore them using `self.save_hyperparameters(ignore=['loss'])`.\n",
      "c:\\Users\\kumar\\AppData\\Local\\Programs\\Python\\Python313\\Lib\\site-packages\\lightning\\pytorch\\utilities\\parsing.py:210: Attribute 'logging_metrics' is an instance of `nn.Module` and is already saved during checkpointing. It is recommended to ignore them using `self.save_hyperparameters(ignore=['logging_metrics'])`.\n",
      "💡 Tip: For seamless cloud uploads and versioning, try installing [litmodels](https://pypi.org/project/litmodels/) to enable LitModelCheckpoint, which syncs automatically with the Lightning model registry.\n",
      "GPU available: True (cuda), used: True\n",
      "TPU available: False, using: 0 TPU cores\n",
      "HPU available: False, using: 0 HPUs\n",
      "c:\\Users\\kumar\\AppData\\Local\\Programs\\Python\\Python313\\Lib\\site-packages\\lightning\\pytorch\\trainer\\connectors\\logger_connector\\logger_connector.py:76: Starting from v1.9.0, `tensorboardX` has been removed as a dependency of the `lightning.pytorch` package, due to potential conflicts with other packages in the ML ecosystem. For this reason, `logger=True` will use `CSVLogger` as the default logger, unless the `tensorboard` or `tensorboardX` packages are found. Please `pip install lightning[extra]` or one of them to enable TensorBoard support by default\n",
      "You are using a CUDA device ('NVIDIA GeForce RTX 4060 Laptop GPU') that has Tensor Cores. To properly utilize them, you should set `torch.set_float32_matmul_precision('medium' | 'high')` which will trade-off precision for performance. For more details, read https://pytorch.org/docs/stable/generated/torch.set_float32_matmul_precision.html#torch.set_float32_matmul_precision\n",
      "LOCAL_RANK: 0 - CUDA_VISIBLE_DEVICES: [0]\n",
      "\n",
      "  | Name            | Type       | Params | Mode \n",
      "-------------------------------------------------------\n",
      "0 | loss            | RMSE       | 0      | train\n",
      "1 | logging_metrics | ModuleList | 0      | train\n",
      "2 | net_blocks      | ModuleList | 1.7 M  | train\n",
      "-------------------------------------------------------\n",
      "1.7 M     Trainable params\n",
      "0         Non-trainable params\n",
      "1.7 M     Total params\n",
      "6.954     Total estimated model params size (MB)\n",
      "86        Modules in train mode\n",
      "0         Modules in eval mode\n"
     ]
    },
    {
     "name": "stdout",
     "output_type": "stream",
     "text": [
      "Sanity Checking: |          | 0/? [00:00<?, ?it/s]"
     ]
    },
    {
     "name": "stderr",
     "output_type": "stream",
     "text": [
      "c:\\Users\\kumar\\AppData\\Local\\Programs\\Python\\Python313\\Lib\\site-packages\\lightning\\pytorch\\trainer\\connectors\\data_connector.py:433: The 'val_dataloader' does not have many workers which may be a bottleneck. Consider increasing the value of the `num_workers` argument` to `num_workers=21` in the `DataLoader` to improve performance.\n"
     ]
    },
    {
     "name": "stdout",
     "output_type": "stream",
     "text": [
      "                                                                           "
     ]
    },
    {
     "name": "stderr",
     "output_type": "stream",
     "text": [
      "c:\\Users\\kumar\\AppData\\Local\\Programs\\Python\\Python313\\Lib\\site-packages\\lightning\\pytorch\\trainer\\connectors\\data_connector.py:433: The 'train_dataloader' does not have many workers which may be a bottleneck. Consider increasing the value of the `num_workers` argument` to `num_workers=21` in the `DataLoader` to improve performance.\n"
     ]
    },
    {
     "name": "stdout",
     "output_type": "stream",
     "text": [
      "Epoch 4: 100%|██████████| 2679/2679 [01:31<00:00, 29.23it/s, v_num=0, train_loss_step=109.0, val_loss=175.0, train_loss_epoch=262.0]  "
     ]
    },
    {
     "name": "stderr",
     "output_type": "stream",
     "text": [
      "`Trainer.fit` stopped: `max_epochs=5` reached.\n"
     ]
    },
    {
     "name": "stdout",
     "output_type": "stream",
     "text": [
      "Epoch 4: 100%|██████████| 2679/2679 [01:31<00:00, 29.15it/s, v_num=0, train_loss_step=109.0, val_loss=175.0, train_loss_epoch=262.0]"
     ]
    },
    {
     "name": "stderr",
     "output_type": "stream",
     "text": [
      "💡 Tip: For seamless cloud uploads and versioning, try installing [litmodels](https://pypi.org/project/litmodels/) to enable LitModelCheckpoint, which syncs automatically with the Lightning model registry.\n",
      "GPU available: True (cuda), used: True\n",
      "TPU available: False, using: 0 TPU cores\n",
      "HPU available: False, using: 0 HPUs\n",
      "LOCAL_RANK: 0 - CUDA_VISIBLE_DEVICES: [0]\n"
     ]
    },
    {
     "name": "stdout",
     "output_type": "stream",
     "text": [
      "\n"
     ]
    },
    {
     "name": "stderr",
     "output_type": "stream",
     "text": [
      "c:\\Users\\kumar\\AppData\\Local\\Programs\\Python\\Python313\\Lib\\site-packages\\lightning\\pytorch\\trainer\\connectors\\data_connector.py:433: The 'predict_dataloader' does not have many workers which may be a bottleneck. Consider increasing the value of the `num_workers` argument` to `num_workers=21` in the `DataLoader` to improve performance.\n"
     ]
    },
    {
     "ename": "ValueError",
     "evalue": "too many values to unpack (expected 2)",
     "output_type": "error",
     "traceback": [
      "\u001b[1;31m---------------------------------------------------------------------------\u001b[0m",
      "\u001b[1;31mValueError\u001b[0m                                Traceback (most recent call last)",
      "Cell \u001b[1;32mIn[2], line 77\u001b[0m\n\u001b[0;32m     74\u001b[0m trainer\u001b[38;5;241m.\u001b[39mfit(model, train_loader, val_loader)\n\u001b[0;32m     76\u001b[0m \u001b[38;5;66;03m# ---------------- predict ----------------\u001b[39;00m\n\u001b[1;32m---> 77\u001b[0m preds, x \u001b[38;5;241m=\u001b[39m model\u001b[38;5;241m.\u001b[39mpredict(val_loader, mode\u001b[38;5;241m=\u001b[39m\u001b[38;5;124m\"\u001b[39m\u001b[38;5;124mprediction\u001b[39m\u001b[38;5;124m\"\u001b[39m, return_x\u001b[38;5;241m=\u001b[39m\u001b[38;5;28;01mTrue\u001b[39;00m)\n\u001b[0;32m     78\u001b[0m preds \u001b[38;5;241m=\u001b[39m preds\u001b[38;5;241m.\u001b[39mcpu()\u001b[38;5;241m.\u001b[39mnumpy()\n\u001b[0;32m     80\u001b[0m \u001b[38;5;66;03m# build prediction dataframe\u001b[39;00m\n",
      "\u001b[1;31mValueError\u001b[0m: too many values to unpack (expected 2)"
     ]
    }
   ],
   "source": [
    "import os\n",
    "import pandas as pd\n",
    "import torch\n",
    "\n",
    "from lightning.pytorch import Trainer\n",
    "from pytorch_forecasting import TimeSeriesDataSet, NBeats\n",
    "from pytorch_forecasting.metrics import RMSE\n",
    "\n",
    "# ---------------- config ----------------\n",
    "DATA_PATH = r\"./../Data Given for Challenge/train.csv\"\n",
    "OUT_PATH  = \"nbeats_weather_forecast.csv\"\n",
    "\n",
    "MAX_ENCODER_LENGTH = 72   # lookback length (3 days hourly)\n",
    "MAX_PRED_LENGTH    = 24   # forecast horizon (1 day)\n",
    "BATCH_SIZE         = 64\n",
    "EPOCHS             = 5\n",
    "LR                 = 1e-3\n",
    "DEVICE             = \"cuda\" if torch.cuda.is_available() else \"cpu\"\n",
    "\n",
    "# ---------------- load & preprocess ----------------\n",
    "df = pd.read_csv(DATA_PATH)\n",
    "\n",
    "# Convert timestamp\n",
    "df[\"timestamp\"] = pd.to_datetime(df[\"Timestamp\"])\n",
    "df = df.drop(columns=[\"Timestamp\"])\n",
    "\n",
    "# Ensure Location is categorical (for group_ids)\n",
    "df[\"Location\"] = df[\"Location\"].astype(str)\n",
    "\n",
    "# Add time index (per location)\n",
    "df[\"time_idx\"] = df.groupby(\"Location\").cumcount()\n",
    "\n",
    "# ---------------- build dataset ----------------\n",
    "# all numeric features except special columns\n",
    "feature_cols = [c for c in df.columns if c not in [\"timestamp\", \"time_idx\", \"Location\", \"out\"]]\n",
    "\n",
    "# ---------------- build dataset ----------------\n",
    "ts_dataset = TimeSeriesDataSet(\n",
    "    df,\n",
    "    time_idx=\"time_idx\",\n",
    "    target=\"out\",\n",
    "    group_ids=[\"Location\"],\n",
    "    max_encoder_length=MAX_ENCODER_LENGTH,\n",
    "    max_prediction_length=MAX_PRED_LENGTH,\n",
    "    time_varying_known_reals=[],\n",
    "    time_varying_unknown_reals=[\"out\"],   # ONLY target allowed for N-BEATS\n",
    "    target_normalizer=None,\n",
    ")\n",
    "\n",
    "# train/val split\n",
    "train_ds = TimeSeriesDataSet.from_dataset(ts_dataset, df, predict=False, stop_randomization=True)\n",
    "val_ds   = TimeSeriesDataSet.from_dataset(ts_dataset, df, predict=True, stop_randomization=True)\n",
    "\n",
    "train_loader = train_ds.to_dataloader(train=True, batch_size=BATCH_SIZE, num_workers=0)\n",
    "val_loader   = val_ds.to_dataloader(train=False, batch_size=BATCH_SIZE, num_workers=0)\n",
    "\n",
    "# ---------------- model ----------------\n",
    "model = NBeats.from_dataset(\n",
    "    ts_dataset,\n",
    "    learning_rate=LR,\n",
    "    log_interval=10,\n",
    "    log_val_interval=1,\n",
    "    loss=RMSE(),\n",
    ")\n",
    "\n",
    "# ---------------- train ----------------\n",
    "trainer = Trainer(\n",
    "    max_epochs=EPOCHS,\n",
    "    accelerator=\"gpu\" if DEVICE == \"cuda\" else \"cpu\",\n",
    "    devices=1,\n",
    "    gradient_clip_val=0.1,\n",
    ")\n",
    "\n",
    "trainer.fit(model, train_loader, val_loader)\n",
    "\n",
    "# ---------------- predict ----------------\n",
    "preds, x = model.predict(val_loader, mode=\"prediction\", return_x=True)\n",
    "preds = preds.cpu().numpy()\n",
    "\n",
    "# build prediction dataframe\n",
    "df_preds = pd.DataFrame({\n",
    "    \"time_idx\": x[\"time_idx\"],\n",
    "    \"Location\": x[\"Location\"],\n",
    "    \"pred\": preds.flatten()\n",
    "})\n",
    "\n",
    "# map time_idx back to timestamp\n",
    "time_map = df.set_index(\"time_idx\")[\"timestamp\"].to_dict()\n",
    "df_preds[\"timestamp\"] = df_preds[\"time_idx\"].map(time_map)\n",
    "\n",
    "df_preds = df_preds[[\"timestamp\", \"Location\", \"pred\"]]\n",
    "df_preds.to_csv(OUT_PATH, index=False)\n",
    "\n",
    "print(f\"✅ Saved predictions to {OUT_PATH}\")\n",
    "print(df_preds.head())\n"
   ]
  },
  {
   "cell_type": "code",
   "execution_count": null,
   "id": "01c55381",
   "metadata": {},
   "outputs": [],
   "source": []
  }
 ],
 "metadata": {
  "kernelspec": {
   "display_name": "Python 3",
   "language": "python",
   "name": "python3"
  },
  "language_info": {
   "codemirror_mode": {
    "name": "ipython",
    "version": 3
   },
   "file_extension": ".py",
   "mimetype": "text/x-python",
   "name": "python",
   "nbconvert_exporter": "python",
   "pygments_lexer": "ipython3",
   "version": "3.13.2"
  }
 },
 "nbformat": 4,
 "nbformat_minor": 5
}
